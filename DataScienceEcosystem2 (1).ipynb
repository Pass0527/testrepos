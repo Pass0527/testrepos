{
 "cells": [
  {
   "cell_type": "markdown",
   "id": "fa581d3a-b40f-4236-811c-7c724a5a14c5",
   "metadata": {},
   "source": [
    "# Data Science Tools and Ecosystem"
   ]
  },
  {
   "cell_type": "markdown",
   "id": "a6563998-1f8b-4cdb-9eba-f7c127d6ba8e",
   "metadata": {},
   "source": [
    "In this notebook, Data Science Tools and Ecosystem are summarized."
   ]
  },
  {
   "cell_type": "markdown",
   "id": "66fc5336-b10f-472b-8569-c28df2774ba0",
   "metadata": {},
   "source": [
    "**Objectives:**\n",
    "\n",
    "- List popular languages for Data Science\n",
    "- Explain common libraries used in Data Science\n",
    "- Describe development tools for Data Science\n",
    "- Perform basic arithmetic operations in Python\n",
    "- Understand Jupyter Notebook markdown formatting"
   ]
  },
  {
   "cell_type": "markdown",
   "id": "43f5397c-3e3f-4bb1-9672-6d78d73fe4a9",
   "metadata": {},
   "source": [
    "### Some of the popular languages that Data Scientists use are:\n",
    "1. Python\n",
    "2. R\n",
    "3. SQL\n",
    "4. Julia\n",
    "5. Scala"
   ]
  },
  {
   "cell_type": "markdown",
   "id": "a74a00bd-b7aa-4008-ba4b-feedcf827827",
   "metadata": {},
   "source": [
    "### Some of the commonly used libraries used by Data Scientists include:\n",
    "1. NumPy\n",
    "2. Pandas\n",
    "3. Matplotlib\n",
    "4. Scikit-Learn\n",
    "5. TensorFlow"
   ]
  },
  {
   "cell_type": "markdown",
   "id": "155bbd42-7a8e-4db7-bb06-e26caea230ce",
   "metadata": {},
   "source": [
    "### Data Science Tools\n",
    "\n",
    "| Data Science Tools |\n",
    "|--------------------|\n",
    "| Jupyter Notebook  |\n",
    "| RStudio           |\n",
    "| Spyder            |"
   ]
  },
  {
   "cell_type": "markdown",
   "id": "9c0e17f2-32e4-473c-bdb4-638bb303ac4b",
   "metadata": {},
   "source": [
    "### Below are a few examples of evaluating arithmetic expressions in Python"
   ]
  },
  {
   "cell_type": "code",
   "execution_count": 1,
   "id": "7b6522ba-4eab-4f0d-bcf0-392ed7b9e3c1",
   "metadata": {},
   "outputs": [
    {
     "data": {
      "text/plain": [
       "17"
      ]
     },
     "execution_count": 1,
     "metadata": {},
     "output_type": "execute_result"
    }
   ],
   "source": [
    "#This a simple arithmetic expression to mutiply then add integers\n",
    "(3*4)+5"
   ]
  },
  {
   "cell_type": "code",
   "execution_count": 2,
   "id": "a57b8eff-54d9-4148-93d2-97ecf6bb2ae7",
   "metadata": {},
   "outputs": [
    {
     "data": {
      "text/plain": [
       "3.3333333333333335"
      ]
     },
     "execution_count": 2,
     "metadata": {},
     "output_type": "execute_result"
    }
   ],
   "source": [
    "#This will convert 200 minutes to hours by diving by 60\n",
    "(200/60)"
   ]
  },
  {
   "cell_type": "markdown",
   "id": "c2680980-ed57-463e-80db-3b81f8fa4001",
   "metadata": {},
   "source": [
    "## Author\n",
    "\n",
    "Shital Kose"
   ]
  },
  {
   "cell_type": "code",
   "execution_count": null,
   "id": "c4aed2ed-497d-4b1c-8df5-895e1f347cb2",
   "metadata": {},
   "outputs": [],
   "source": []
  }
 ],
 "metadata": {
  "kernelspec": {
   "display_name": "Python 3 (ipykernel)",
   "language": "python",
   "name": "python3"
  },
  "language_info": {
   "codemirror_mode": {
    "name": "ipython",
    "version": 3
   },
   "file_extension": ".py",
   "mimetype": "text/x-python",
   "name": "python",
   "nbconvert_exporter": "python",
   "pygments_lexer": "ipython3",
   "version": "3.12.8"
  }
 },
 "nbformat": 4,
 "nbformat_minor": 5
}
